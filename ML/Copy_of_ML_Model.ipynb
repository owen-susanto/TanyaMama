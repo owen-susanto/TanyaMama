{
  "nbformat": 4,
  "nbformat_minor": 0,
  "metadata": {
    "colab": {
      "provenance": []
    },
    "kernelspec": {
      "name": "python3",
      "display_name": "Python 3"
    },
    "language_info": {
      "name": "python"
    }
  },
  "cells": [
    {
      "cell_type": "code",
      "source": [
        "# Importing Modules untuk Notebook ini\n",
        "import warnings; warnings.simplefilter('ignore')\n",
        "try:\n",
        "    import google.colab; IN_COLAB = True\n",
        "    !pip install umap-learn\n",
        "    !wget https://raw.githubusercontent.com/taudata-indonesia/eLearning/master/tau_unsup.py\n",
        "except:\n",
        "    IN_COLAB = False\n",
        "    print(\"Running the code locally, please make sure all the python module versions agree with colab environment and all data/assets downloaded\")\n",
        "import umap, numpy as np, tau_unsup as tau, matplotlib.pyplot as plt, pandas as pd, seaborn as sns\n",
        "from sklearn import cluster, datasets\n",
        "from sklearn.metrics import silhouette_score as siluet\n",
        "from sklearn.metrics.cluster import homogeneity_score as purity\n",
        "from sklearn.metrics import normalized_mutual_info_score as NMI\n",
        "\n",
        "sns.set(style=\"ticks\", color_codes=True)\n",
        "random_state = 99 #ini buat untuk random_state dan ini penting banget buat kmeans"
      ],
      "metadata": {
        "colab": {
          "base_uri": "https://localhost:8080/"
        },
        "id": "T740FwTYJfqZ",
        "outputId": "cf83fdab-0d50-47bc-cd7d-983133b3cce4"
      },
      "execution_count": 1,
      "outputs": [
        {
          "output_type": "stream",
          "name": "stdout",
          "text": [
            "Looking in indexes: https://pypi.org/simple, https://us-python.pkg.dev/colab-wheels/public/simple/\n",
            "Collecting umap-learn\n",
            "  Downloading umap-learn-0.5.3.tar.gz (88 kB)\n",
            "\u001b[2K     \u001b[90m━━━━━━━━━━━━━━━━━━━━━━━━━━━━━━━━━━━━━━━━\u001b[0m \u001b[32m88.2/88.2 kB\u001b[0m \u001b[31m7.3 MB/s\u001b[0m eta \u001b[36m0:00:00\u001b[0m\n",
            "\u001b[?25h  Preparing metadata (setup.py) ... \u001b[?25l\u001b[?25hdone\n",
            "Requirement already satisfied: numpy>=1.17 in /usr/local/lib/python3.10/dist-packages (from umap-learn) (1.22.4)\n",
            "Requirement already satisfied: scikit-learn>=0.22 in /usr/local/lib/python3.10/dist-packages (from umap-learn) (1.2.2)\n",
            "Requirement already satisfied: scipy>=1.0 in /usr/local/lib/python3.10/dist-packages (from umap-learn) (1.10.1)\n",
            "Requirement already satisfied: numba>=0.49 in /usr/local/lib/python3.10/dist-packages (from umap-learn) (0.56.4)\n",
            "Collecting pynndescent>=0.5 (from umap-learn)\n",
            "  Downloading pynndescent-0.5.10.tar.gz (1.1 MB)\n",
            "\u001b[2K     \u001b[90m━━━━━━━━━━━━━━━━━━━━━━━━━━━━━━━━━━━━━━━━\u001b[0m \u001b[32m1.1/1.1 MB\u001b[0m \u001b[31m34.6 MB/s\u001b[0m eta \u001b[36m0:00:00\u001b[0m\n",
            "\u001b[?25h  Preparing metadata (setup.py) ... \u001b[?25l\u001b[?25hdone\n",
            "Requirement already satisfied: tqdm in /usr/local/lib/python3.10/dist-packages (from umap-learn) (4.65.0)\n",
            "Requirement already satisfied: llvmlite<0.40,>=0.39.0dev0 in /usr/local/lib/python3.10/dist-packages (from numba>=0.49->umap-learn) (0.39.1)\n",
            "Requirement already satisfied: setuptools in /usr/local/lib/python3.10/dist-packages (from numba>=0.49->umap-learn) (67.7.2)\n",
            "Requirement already satisfied: joblib>=0.11 in /usr/local/lib/python3.10/dist-packages (from pynndescent>=0.5->umap-learn) (1.2.0)\n",
            "Requirement already satisfied: threadpoolctl>=2.0.0 in /usr/local/lib/python3.10/dist-packages (from scikit-learn>=0.22->umap-learn) (3.1.0)\n",
            "Building wheels for collected packages: umap-learn, pynndescent\n",
            "  Building wheel for umap-learn (setup.py) ... \u001b[?25l\u001b[?25hdone\n",
            "  Created wheel for umap-learn: filename=umap_learn-0.5.3-py3-none-any.whl size=82816 sha256=b0ab66a6500d1632ff83abc266221e8d4d30195708aaf133567bdded0b2aa99e\n",
            "  Stored in directory: /root/.cache/pip/wheels/a0/e8/c6/a37ea663620bd5200ea1ba0907ab3c217042c1d035ef606acc\n",
            "  Building wheel for pynndescent (setup.py) ... \u001b[?25l\u001b[?25hdone\n",
            "  Created wheel for pynndescent: filename=pynndescent-0.5.10-py3-none-any.whl size=55622 sha256=be93f767dbe200477008e10b7af3df0863a8a80c80289b63c90f433783000f41\n",
            "  Stored in directory: /root/.cache/pip/wheels/4a/38/5d/f60a40a66a9512b7e5e83517ebc2d1b42d857be97d135f1096\n",
            "Successfully built umap-learn pynndescent\n",
            "Installing collected packages: pynndescent, umap-learn\n",
            "Successfully installed pynndescent-0.5.10 umap-learn-0.5.3\n",
            "--2023-06-13 16:22:11--  https://raw.githubusercontent.com/taudata-indonesia/eLearning/master/tau_unsup.py\n",
            "Resolving raw.githubusercontent.com (raw.githubusercontent.com)... 185.199.108.133, 185.199.109.133, 185.199.110.133, ...\n",
            "Connecting to raw.githubusercontent.com (raw.githubusercontent.com)|185.199.108.133|:443... connected.\n",
            "HTTP request sent, awaiting response... 200 OK\n",
            "Length: 17387 (17K) [text/plain]\n",
            "Saving to: ‘tau_unsup.py’\n",
            "\n",
            "tau_unsup.py        100%[===================>]  16.98K  --.-KB/s    in 0s      \n",
            "\n",
            "2023-06-13 16:22:11 (70.9 MB/s) - ‘tau_unsup.py’ saved [17387/17387]\n",
            "\n"
          ]
        }
      ]
    },
    {
      "cell_type": "markdown",
      "source": [
        "#Trial 1"
      ],
      "metadata": {
        "id": "eEFJYd7X-O5B"
      }
    },
    {
      "cell_type": "code",
      "execution_count": 10,
      "metadata": {
        "id": "wj3dsUTJG-mX"
      },
      "outputs": [],
      "source": [
        "import pandas as pd\n",
        "from sklearn.preprocessing import RobustScaler\n",
        "from sklearn.preprocessing import MinMaxScaler\n",
        "import seaborn as sns\n",
        "import matplotlib.pyplot as plt\n",
        "from sklearn import cluster\n",
        "from sklearn.metrics import silhouette_score as siluet"
      ]
    },
    {
      "cell_type": "code",
      "source": [
        "df = pd.read_excel(\"/content/2. Dataset TanyaMamaa.xlsx\")"
      ],
      "metadata": {
        "id": "4eXKZj4AICPL"
      },
      "execution_count": 6,
      "outputs": []
    },
    {
      "cell_type": "code",
      "source": [
        "df.head()"
      ],
      "metadata": {
        "id": "np6at8cSIaM2",
        "colab": {
          "base_uri": "https://localhost:8080/",
          "height": 206
        },
        "outputId": "f61400d0-1c28-42c6-b9af-5d6338e95697"
      },
      "execution_count": 7,
      "outputs": [
        {
          "output_type": "execute_result",
          "data": {
            "text/plain": [
              "   Harga Barang  Discount Value\n",
              "0     345000000            0.40\n",
              "1     345000000            0.05\n",
              "2     345000000            0.25\n",
              "3     327600000            0.05\n",
              "4     322000000            0.20"
            ],
            "text/html": [
              "\n",
              "  <div id=\"df-ea273678-f6b9-4cf5-831d-701f30be3e09\">\n",
              "    <div class=\"colab-df-container\">\n",
              "      <div>\n",
              "<style scoped>\n",
              "    .dataframe tbody tr th:only-of-type {\n",
              "        vertical-align: middle;\n",
              "    }\n",
              "\n",
              "    .dataframe tbody tr th {\n",
              "        vertical-align: top;\n",
              "    }\n",
              "\n",
              "    .dataframe thead th {\n",
              "        text-align: right;\n",
              "    }\n",
              "</style>\n",
              "<table border=\"1\" class=\"dataframe\">\n",
              "  <thead>\n",
              "    <tr style=\"text-align: right;\">\n",
              "      <th></th>\n",
              "      <th>Harga Barang</th>\n",
              "      <th>Discount Value</th>\n",
              "    </tr>\n",
              "  </thead>\n",
              "  <tbody>\n",
              "    <tr>\n",
              "      <th>0</th>\n",
              "      <td>345000000</td>\n",
              "      <td>0.40</td>\n",
              "    </tr>\n",
              "    <tr>\n",
              "      <th>1</th>\n",
              "      <td>345000000</td>\n",
              "      <td>0.05</td>\n",
              "    </tr>\n",
              "    <tr>\n",
              "      <th>2</th>\n",
              "      <td>345000000</td>\n",
              "      <td>0.25</td>\n",
              "    </tr>\n",
              "    <tr>\n",
              "      <th>3</th>\n",
              "      <td>327600000</td>\n",
              "      <td>0.05</td>\n",
              "    </tr>\n",
              "    <tr>\n",
              "      <th>4</th>\n",
              "      <td>322000000</td>\n",
              "      <td>0.20</td>\n",
              "    </tr>\n",
              "  </tbody>\n",
              "</table>\n",
              "</div>\n",
              "      <button class=\"colab-df-convert\" onclick=\"convertToInteractive('df-ea273678-f6b9-4cf5-831d-701f30be3e09')\"\n",
              "              title=\"Convert this dataframe to an interactive table.\"\n",
              "              style=\"display:none;\">\n",
              "        \n",
              "  <svg xmlns=\"http://www.w3.org/2000/svg\" height=\"24px\"viewBox=\"0 0 24 24\"\n",
              "       width=\"24px\">\n",
              "    <path d=\"M0 0h24v24H0V0z\" fill=\"none\"/>\n",
              "    <path d=\"M18.56 5.44l.94 2.06.94-2.06 2.06-.94-2.06-.94-.94-2.06-.94 2.06-2.06.94zm-11 1L8.5 8.5l.94-2.06 2.06-.94-2.06-.94L8.5 2.5l-.94 2.06-2.06.94zm10 10l.94 2.06.94-2.06 2.06-.94-2.06-.94-.94-2.06-.94 2.06-2.06.94z\"/><path d=\"M17.41 7.96l-1.37-1.37c-.4-.4-.92-.59-1.43-.59-.52 0-1.04.2-1.43.59L10.3 9.45l-7.72 7.72c-.78.78-.78 2.05 0 2.83L4 21.41c.39.39.9.59 1.41.59.51 0 1.02-.2 1.41-.59l7.78-7.78 2.81-2.81c.8-.78.8-2.07 0-2.86zM5.41 20L4 18.59l7.72-7.72 1.47 1.35L5.41 20z\"/>\n",
              "  </svg>\n",
              "      </button>\n",
              "      \n",
              "  <style>\n",
              "    .colab-df-container {\n",
              "      display:flex;\n",
              "      flex-wrap:wrap;\n",
              "      gap: 12px;\n",
              "    }\n",
              "\n",
              "    .colab-df-convert {\n",
              "      background-color: #E8F0FE;\n",
              "      border: none;\n",
              "      border-radius: 50%;\n",
              "      cursor: pointer;\n",
              "      display: none;\n",
              "      fill: #1967D2;\n",
              "      height: 32px;\n",
              "      padding: 0 0 0 0;\n",
              "      width: 32px;\n",
              "    }\n",
              "\n",
              "    .colab-df-convert:hover {\n",
              "      background-color: #E2EBFA;\n",
              "      box-shadow: 0px 1px 2px rgba(60, 64, 67, 0.3), 0px 1px 3px 1px rgba(60, 64, 67, 0.15);\n",
              "      fill: #174EA6;\n",
              "    }\n",
              "\n",
              "    [theme=dark] .colab-df-convert {\n",
              "      background-color: #3B4455;\n",
              "      fill: #D2E3FC;\n",
              "    }\n",
              "\n",
              "    [theme=dark] .colab-df-convert:hover {\n",
              "      background-color: #434B5C;\n",
              "      box-shadow: 0px 1px 3px 1px rgba(0, 0, 0, 0.15);\n",
              "      filter: drop-shadow(0px 1px 2px rgba(0, 0, 0, 0.3));\n",
              "      fill: #FFFFFF;\n",
              "    }\n",
              "  </style>\n",
              "\n",
              "      <script>\n",
              "        const buttonEl =\n",
              "          document.querySelector('#df-ea273678-f6b9-4cf5-831d-701f30be3e09 button.colab-df-convert');\n",
              "        buttonEl.style.display =\n",
              "          google.colab.kernel.accessAllowed ? 'block' : 'none';\n",
              "\n",
              "        async function convertToInteractive(key) {\n",
              "          const element = document.querySelector('#df-ea273678-f6b9-4cf5-831d-701f30be3e09');\n",
              "          const dataTable =\n",
              "            await google.colab.kernel.invokeFunction('convertToInteractive',\n",
              "                                                     [key], {});\n",
              "          if (!dataTable) return;\n",
              "\n",
              "          const docLinkHtml = 'Like what you see? Visit the ' +\n",
              "            '<a target=\"_blank\" href=https://colab.research.google.com/notebooks/data_table.ipynb>data table notebook</a>'\n",
              "            + ' to learn more about interactive tables.';\n",
              "          element.innerHTML = '';\n",
              "          dataTable['output_type'] = 'display_data';\n",
              "          await google.colab.output.renderOutput(dataTable, element);\n",
              "          const docLink = document.createElement('div');\n",
              "          docLink.innerHTML = docLinkHtml;\n",
              "          element.appendChild(docLink);\n",
              "        }\n",
              "      </script>\n",
              "    </div>\n",
              "  </div>\n",
              "  "
            ]
          },
          "metadata": {},
          "execution_count": 7
        }
      ]
    },
    {
      "cell_type": "code",
      "source": [
        "df2 = df\n",
        "print(df2)"
      ],
      "metadata": {
        "id": "OsWIi3v3sAyu",
        "colab": {
          "base_uri": "https://localhost:8080/"
        },
        "outputId": "42cb2db5-af33-4c53-dd18-54a9959dbfc6"
      },
      "execution_count": 8,
      "outputs": [
        {
          "output_type": "stream",
          "name": "stdout",
          "text": [
            "       Harga Barang  Discount Value\n",
            "0         345000000            0.40\n",
            "1         345000000            0.05\n",
            "2         345000000            0.25\n",
            "3         327600000            0.05\n",
            "4         322000000            0.20\n",
            "...             ...             ...\n",
            "10860          4250            0.25\n",
            "10861          4240            0.30\n",
            "10862          4000            0.25\n",
            "10863          3880            0.15\n",
            "10864          3560            0.10\n",
            "\n",
            "[10865 rows x 2 columns]\n"
          ]
        }
      ]
    },
    {
      "cell_type": "code",
      "source": [
        "# Create a MinMaxScaler object\n",
        "scaler = MinMaxScaler()\n",
        "\n",
        "# Normalize the 'Price' column using min-max scaling\n",
        "df2['Normalized_Price'] = scaler.fit_transform(df2[['Harga Barang']])\n",
        "\n",
        "# Print the updated DataFrame\n",
        "print(df2)"
      ],
      "metadata": {
        "id": "kNbaF4jG53uH",
        "colab": {
          "base_uri": "https://localhost:8080/"
        },
        "outputId": "d2121984-1e4a-4a39-ddfa-2c1da3dced59"
      },
      "execution_count": 9,
      "outputs": [
        {
          "output_type": "stream",
          "name": "stdout",
          "text": [
            "       Harga Barang  Discount Value  Normalized_Price\n",
            "0         345000000            0.40      1.000000e+00\n",
            "1         345000000            0.05      1.000000e+00\n",
            "2         345000000            0.25      1.000000e+00\n",
            "3         327600000            0.05      9.495647e-01\n",
            "4         322000000            0.20      9.333326e-01\n",
            "...             ...             ...               ...\n",
            "10860          4250            0.25      2.000021e-06\n",
            "10861          4240            0.30      1.971035e-06\n",
            "10862          4000            0.25      1.275375e-06\n",
            "10863          3880            0.15      9.275458e-07\n",
            "10864          3560            0.10      0.000000e+00\n",
            "\n",
            "[10865 rows x 3 columns]\n"
          ]
        }
      ]
    },
    {
      "cell_type": "code",
      "source": [
        "X = df2[['Normalized_Price','Discount Value']]#.values"
      ],
      "metadata": {
        "id": "gBW30wtRIbIP"
      },
      "execution_count": 10,
      "outputs": []
    },
    {
      "cell_type": "code",
      "source": [
        "#kmeans\n",
        "k = 2\n",
        "km = cluster.KMeans(n_clusters=k, init='random', random_state = 99)\n",
        "km.fit(X)\n",
        "# Hasil clusteringnya\n",
        "C_km = km.predict(X)\n",
        "p= sns.countplot(x=C_km)"
      ],
      "metadata": {
        "id": "BQ107bUnKjti",
        "colab": {
          "base_uri": "https://localhost:8080/",
          "height": 434
        },
        "outputId": "66bf9eb7-db85-41a6-cb28-8f4c20ce9d0c"
      },
      "execution_count": 11,
      "outputs": [
        {
          "output_type": "display_data",
          "data": {
            "text/plain": [
              "<Figure size 640x480 with 1 Axes>"
            ],
            "image/png": "[encoded data removed]"
          },
          "metadata": {}
        }
      ]
    },
    {
      "cell_type": "code",
      "source": [
        "k = 2\n",
        "kmPP1 = cluster.KMeans(n_clusters=k, init='k-means++', max_iter=300, tol=0.0001, random_state = random_state)\n",
        "kmPP1.fit(X)\n",
        "C_kmpp1 = kmPP1.predict(X)\n",
        "\n",
        "sns.countplot(x=C_kmpp1)\n",
        "C_kmpp1[:10]"
      ],
      "metadata": {
        "colab": {
          "base_uri": "https://localhost:8080/",
          "height": 451
        },
        "id": "Ic0mZFFYUzpf",
        "outputId": "f8d89e1d-79ca-4d51-a644-fa8dad1d52b4"
      },
      "execution_count": 12,
      "outputs": [
        {
          "output_type": "execute_result",
          "data": {
            "text/plain": [
              "array([0, 1, 0, 1, 1, 1, 0, 1, 0, 0], dtype=int32)"
            ]
          },
          "metadata": {},
          "execution_count": 12
        },
        {
          "output_type": "display_data",
          "data": {
            "text/plain": [
              "<Figure size 640x480 with 1 Axes>"
            ],
            "image/png": "[encoded data removed]"
          },
          "metadata": {}
        }
      ]
    },
    {
      "cell_type": "code",
      "source": [
        "#minibatchkmeans\n",
        "k = 2\n",
        "# MiniBatch k-Means http://scikit-learn.org/stable/modules/generated/sklearn.cluster.MiniBatchKMeans.html\n",
        "mbkm1 = cluster.MiniBatchKMeans(n_clusters=k, init='random', \\\n",
        "                               max_iter=300, tol=0.0001, batch_size = 100, random_state = 99)\n",
        "mbkm1.fit(X)\n",
        "C_mbkm1 = mbkm1.predict(X)\n",
        "sns.countplot(x=C_mbkm1)\n",
        "C_mbkm1[:10]"
      ],
      "metadata": {
        "colab": {
          "base_uri": "https://localhost:8080/",
          "height": 451
        },
        "id": "8rmHEHozU8i9",
        "outputId": "596af35e-ecf6-48f1-82b5-0bccd76cd41c"
      },
      "execution_count": 13,
      "outputs": [
        {
          "output_type": "execute_result",
          "data": {
            "text/plain": [
              "array([0, 0, 0, 0, 0, 0, 0, 0, 0, 0], dtype=int32)"
            ]
          },
          "metadata": {},
          "execution_count": 13
        },
        {
          "output_type": "display_data",
          "data": {
            "text/plain": [
              "<Figure size 640x480 with 1 Axes>"
            ],
            "image/png": "[encoded data removed]"
          },
          "metadata": {}
        }
      ]
    },
    {
      "cell_type": "code",
      "source": [
        "Hasil_Clustering = [C_km, C_kmpp1, C_mbkm1]\n",
        "for res in Hasil_Clustering:\n",
        "    print(siluet(X,res), end=', ')"
      ],
      "metadata": {
        "colab": {
          "base_uri": "https://localhost:8080/"
        },
        "id": "TrbE4343U9ls",
        "outputId": "78ea5513-1ece-410e-ce0c-c8fae8426c5c"
      },
      "execution_count": 14,
      "outputs": [
        {
          "output_type": "stream",
          "name": "stdout",
          "text": [
            "0.5271876432883951, 0.5271876432883951, 0.643538591497192, "
          ]
        }
      ]
    },
    {
      "cell_type": "markdown",
      "source": [
        "kita akan memilih mbkm 1 krn skor silhouette lbi kecil"
      ],
      "metadata": {
        "id": "58-bXwkG8L4c"
      }
    },
    {
      "cell_type": "code",
      "source": [
        "sns.set(style=\"whitegrid\")\n",
        "\n",
        "# Create a scatter plot for each cluster\n",
        "sns.scatterplot(data=df2, x='Normalized_Price', y='Discount Value', hue=C_mbkm1, palette='viridis')\n",
        "\n",
        "# Show the plot\n",
        "plt.show()"
      ],
      "metadata": {
        "id": "0htR23pboWF2",
        "colab": {
          "base_uri": "https://localhost:8080/",
          "height": 458
        },
        "outputId": "fbf484d7-2f4b-4956-cae9-f9f848c8cab9"
      },
      "execution_count": 15,
      "outputs": [
        {
          "output_type": "display_data",
          "data": {
            "text/plain": [
              "<Figure size 640x480 with 1 Axes>"
            ],
            "image/png": "[encoded data removed]"
          },
          "metadata": {}
        }
      ]
    },
    {
      "cell_type": "code",
      "source": [
        "df2['Cluster'] = C_mbkm1\n",
        "df2.sample()"
      ],
      "metadata": {
        "id": "BigW97ao8R4G",
        "colab": {
          "base_uri": "https://localhost:8080/",
          "height": 81
        },
        "outputId": "639cb26e-bbf2-411c-bcc6-c08056ab5d15"
      },
      "execution_count": 16,
      "outputs": [
        {
          "output_type": "execute_result",
          "data": {
            "text/plain": [
              "     Harga Barang  Discount Value  Normalized_Price  Cluster\n",
              "154     169000000             0.1           0.48985        0"
            ],
            "text/html": [
              "\n",
              "  <div id=\"df-fe5a6f9f-d071-40d3-b04b-315f9f67ee1d\">\n",
              "    <div class=\"colab-df-container\">\n",
              "      <div>\n",
              "<style scoped>\n",
              "    .dataframe tbody tr th:only-of-type {\n",
              "        vertical-align: middle;\n",
              "    }\n",
              "\n",
              "    .dataframe tbody tr th {\n",
              "        vertical-align: top;\n",
              "    }\n",
              "\n",
              "    .dataframe thead th {\n",
              "        text-align: right;\n",
              "    }\n",
              "</style>\n",
              "<table border=\"1\" class=\"dataframe\">\n",
              "  <thead>\n",
              "    <tr style=\"text-align: right;\">\n",
              "      <th></th>\n",
              "      <th>Harga Barang</th>\n",
              "      <th>Discount Value</th>\n",
              "      <th>Normalized_Price</th>\n",
              "      <th>Cluster</th>\n",
              "    </tr>\n",
              "  </thead>\n",
              "  <tbody>\n",
              "    <tr>\n",
              "      <th>154</th>\n",
              "      <td>169000000</td>\n",
              "      <td>0.1</td>\n",
              "      <td>0.48985</td>\n",
              "      <td>0</td>\n",
              "    </tr>\n",
              "  </tbody>\n",
              "</table>\n",
              "</div>\n",
              "      <button class=\"colab-df-convert\" onclick=\"convertToInteractive('df-fe5a6f9f-d071-40d3-b04b-315f9f67ee1d')\"\n",
              "              title=\"Convert this dataframe to an interactive table.\"\n",
              "              style=\"display:none;\">\n",
              "        \n",
              "  <svg xmlns=\"http://www.w3.org/2000/svg\" height=\"24px\"viewBox=\"0 0 24 24\"\n",
              "       width=\"24px\">\n",
              "    <path d=\"M0 0h24v24H0V0z\" fill=\"none\"/>\n",
              "    <path d=\"M18.56 5.44l.94 2.06.94-2.06 2.06-.94-2.06-.94-.94-2.06-.94 2.06-2.06.94zm-11 1L8.5 8.5l.94-2.06 2.06-.94-2.06-.94L8.5 2.5l-.94 2.06-2.06.94zm10 10l.94 2.06.94-2.06 2.06-.94-2.06-.94-.94-2.06-.94 2.06-2.06.94z\"/><path d=\"M17.41 7.96l-1.37-1.37c-.4-.4-.92-.59-1.43-.59-.52 0-1.04.2-1.43.59L10.3 9.45l-7.72 7.72c-.78.78-.78 2.05 0 2.83L4 21.41c.39.39.9.59 1.41.59.51 0 1.02-.2 1.41-.59l7.78-7.78 2.81-2.81c.8-.78.8-2.07 0-2.86zM5.41 20L4 18.59l7.72-7.72 1.47 1.35L5.41 20z\"/>\n",
              "  </svg>\n",
              "      </button>\n",
              "      \n",
              "  <style>\n",
              "    .colab-df-container {\n",
              "      display:flex;\n",
              "      flex-wrap:wrap;\n",
              "      gap: 12px;\n",
              "    }\n",
              "\n",
              "    .colab-df-convert {\n",
              "      background-color: #E8F0FE;\n",
              "      border: none;\n",
              "      border-radius: 50%;\n",
              "      cursor: pointer;\n",
              "      display: none;\n",
              "      fill: #1967D2;\n",
              "      height: 32px;\n",
              "      padding: 0 0 0 0;\n",
              "      width: 32px;\n",
              "    }\n",
              "\n",
              "    .colab-df-convert:hover {\n",
              "      background-color: #E2EBFA;\n",
              "      box-shadow: 0px 1px 2px rgba(60, 64, 67, 0.3), 0px 1px 3px 1px rgba(60, 64, 67, 0.15);\n",
              "      fill: #174EA6;\n",
              "    }\n",
              "\n",
              "    [theme=dark] .colab-df-convert {\n",
              "      background-color: #3B4455;\n",
              "      fill: #D2E3FC;\n",
              "    }\n",
              "\n",
              "    [theme=dark] .colab-df-convert:hover {\n",
              "      background-color: #434B5C;\n",
              "      box-shadow: 0px 1px 3px 1px rgba(0, 0, 0, 0.15);\n",
              "      filter: drop-shadow(0px 1px 2px rgba(0, 0, 0, 0.3));\n",
              "      fill: #FFFFFF;\n",
              "    }\n",
              "  </style>\n",
              "\n",
              "      <script>\n",
              "        const buttonEl =\n",
              "          document.querySelector('#df-fe5a6f9f-d071-40d3-b04b-315f9f67ee1d button.colab-df-convert');\n",
              "        buttonEl.style.display =\n",
              "          google.colab.kernel.accessAllowed ? 'block' : 'none';\n",
              "\n",
              "        async function convertToInteractive(key) {\n",
              "          const element = document.querySelector('#df-fe5a6f9f-d071-40d3-b04b-315f9f67ee1d');\n",
              "          const dataTable =\n",
              "            await google.colab.kernel.invokeFunction('convertToInteractive',\n",
              "                                                     [key], {});\n",
              "          if (!dataTable) return;\n",
              "\n",
              "          const docLinkHtml = 'Like what you see? Visit the ' +\n",
              "            '<a target=\"_blank\" href=https://colab.research.google.com/notebooks/data_table.ipynb>data table notebook</a>'\n",
              "            + ' to learn more about interactive tables.';\n",
              "          element.innerHTML = '';\n",
              "          dataTable['output_type'] = 'display_data';\n",
              "          await google.colab.output.renderOutput(dataTable, element);\n",
              "          const docLink = document.createElement('div');\n",
              "          docLink.innerHTML = docLinkHtml;\n",
              "          element.appendChild(docLink);\n",
              "        }\n",
              "      </script>\n",
              "    </div>\n",
              "  </div>\n",
              "  "
            ]
          },
          "metadata": {},
          "execution_count": 16
        }
      ]
    },
    {
      "cell_type": "code",
      "source": [
        "df2.sample(20)"
      ],
      "metadata": {
        "id": "k3NWytZHn7--",
        "colab": {
          "base_uri": "https://localhost:8080/",
          "height": 676
        },
        "outputId": "5fef6e2f-4dd0-4f9b-8a9c-7cf81a7725f3"
      },
      "execution_count": 17,
      "outputs": [
        {
          "output_type": "execute_result",
          "data": {
            "text/plain": [
              "       Harga Barang  Discount Value  Normalized_Price  Cluster\n",
              "3148        4806000            0.15          0.013920        1\n",
              "7490         406000            0.20          0.001167        1\n",
              "3084        5000000            0.15          0.014483        1\n",
              "10580         27260            0.30          0.000069        1\n",
              "2251        8988000            0.35          0.026042        1\n",
              "1369       17440000            0.35          0.050541        1\n",
              "9730          85000            0.40          0.000236        1\n",
              "9331         115200            0.15          0.000324        1\n",
              "1924       11000000            0.30          0.031874        1\n",
              "7672         357000            0.40          0.001024        1\n",
              "10653         23760            0.10          0.000059        1\n",
              "8406         213600            0.40          0.000609        1\n",
              "5851        1000000            0.05          0.002888        1\n",
              "5666        1100000            0.25          0.003178        1\n",
              "10607         26100            0.35          0.000065        1\n",
              "8295         238000            0.05          0.000680        1\n",
              "1981       10560000            0.15          0.030599        1\n",
              "2420        7830000            0.40          0.022686        1\n",
              "4191        2552000            0.20          0.007387        1\n",
              "9187         129000            0.05          0.000364        1"
            ],
            "text/html": [
              "\n",
              "  <div id=\"df-639f20a7-5360-4eed-977b-49df52cb7298\">\n",
              "    <div class=\"colab-df-container\">\n",
              "      <div>\n",
              "<style scoped>\n",
              "    .dataframe tbody tr th:only-of-type {\n",
              "        vertical-align: middle;\n",
              "    }\n",
              "\n",
              "    .dataframe tbody tr th {\n",
              "        vertical-align: top;\n",
              "    }\n",
              "\n",
              "    .dataframe thead th {\n",
              "        text-align: right;\n",
              "    }\n",
              "</style>\n",
              "<table border=\"1\" class=\"dataframe\">\n",
              "  <thead>\n",
              "    <tr style=\"text-align: right;\">\n",
              "      <th></th>\n",
              "      <th>Harga Barang</th>\n",
              "      <th>Discount Value</th>\n",
              "      <th>Normalized_Price</th>\n",
              "      <th>Cluster</th>\n",
              "    </tr>\n",
              "  </thead>\n",
              "  <tbody>\n",
              "    <tr>\n",
              "      <th>3148</th>\n",
              "      <td>4806000</td>\n",
              "      <td>0.15</td>\n",
              "      <td>0.013920</td>\n",
              "      <td>1</td>\n",
              "    </tr>\n",
              "    <tr>\n",
              "      <th>7490</th>\n",
              "      <td>406000</td>\n",
              "      <td>0.20</td>\n",
              "      <td>0.001167</td>\n",
              "      <td>1</td>\n",
              "    </tr>\n",
              "    <tr>\n",
              "      <th>3084</th>\n",
              "      <td>5000000</td>\n",
              "      <td>0.15</td>\n",
              "      <td>0.014483</td>\n",
              "      <td>1</td>\n",
              "    </tr>\n",
              "    <tr>\n",
              "      <th>10580</th>\n",
              "      <td>27260</td>\n",
              "      <td>0.30</td>\n",
              "      <td>0.000069</td>\n",
              "      <td>1</td>\n",
              "    </tr>\n",
              "    <tr>\n",
              "      <th>2251</th>\n",
              "      <td>8988000</td>\n",
              "      <td>0.35</td>\n",
              "      <td>0.026042</td>\n",
              "      <td>1</td>\n",
              "    </tr>\n",
              "    <tr>\n",
              "      <th>1369</th>\n",
              "      <td>17440000</td>\n",
              "      <td>0.35</td>\n",
              "      <td>0.050541</td>\n",
              "      <td>1</td>\n",
              "    </tr>\n",
              "    <tr>\n",
              "      <th>9730</th>\n",
              "      <td>85000</td>\n",
              "      <td>0.40</td>\n",
              "      <td>0.000236</td>\n",
              "      <td>1</td>\n",
              "    </tr>\n",
              "    <tr>\n",
              "      <th>9331</th>\n",
              "      <td>115200</td>\n",
              "      <td>0.15</td>\n",
              "      <td>0.000324</td>\n",
              "      <td>1</td>\n",
              "    </tr>\n",
              "    <tr>\n",
              "      <th>1924</th>\n",
              "      <td>11000000</td>\n",
              "      <td>0.30</td>\n",
              "      <td>0.031874</td>\n",
              "      <td>1</td>\n",
              "    </tr>\n",
              "    <tr>\n",
              "      <th>7672</th>\n",
              "      <td>357000</td>\n",
              "      <td>0.40</td>\n",
              "      <td>0.001024</td>\n",
              "      <td>1</td>\n",
              "    </tr>\n",
              "    <tr>\n",
              "      <th>10653</th>\n",
              "      <td>23760</td>\n",
              "      <td>0.10</td>\n",
              "      <td>0.000059</td>\n",
              "      <td>1</td>\n",
              "    </tr>\n",
              "    <tr>\n",
              "      <th>8406</th>\n",
              "      <td>213600</td>\n",
              "      <td>0.40</td>\n",
              "      <td>0.000609</td>\n",
              "      <td>1</td>\n",
              "    </tr>\n",
              "    <tr>\n",
              "      <th>5851</th>\n",
              "      <td>1000000</td>\n",
              "      <td>0.05</td>\n",
              "      <td>0.002888</td>\n",
              "      <td>1</td>\n",
              "    </tr>\n",
              "    <tr>\n",
              "      <th>5666</th>\n",
              "      <td>1100000</td>\n",
              "      <td>0.25</td>\n",
              "      <td>0.003178</td>\n",
              "      <td>1</td>\n",
              "    </tr>\n",
              "    <tr>\n",
              "      <th>10607</th>\n",
              "      <td>26100</td>\n",
              "      <td>0.35</td>\n",
              "      <td>0.000065</td>\n",
              "      <td>1</td>\n",
              "    </tr>\n",
              "    <tr>\n",
              "      <th>8295</th>\n",
              "      <td>238000</td>\n",
              "      <td>0.05</td>\n",
              "      <td>0.000680</td>\n",
              "      <td>1</td>\n",
              "    </tr>\n",
              "    <tr>\n",
              "      <th>1981</th>\n",
              "      <td>10560000</td>\n",
              "      <td>0.15</td>\n",
              "      <td>0.030599</td>\n",
              "      <td>1</td>\n",
              "    </tr>\n",
              "    <tr>\n",
              "      <th>2420</th>\n",
              "      <td>7830000</td>\n",
              "      <td>0.40</td>\n",
              "      <td>0.022686</td>\n",
              "      <td>1</td>\n",
              "    </tr>\n",
              "    <tr>\n",
              "      <th>4191</th>\n",
              "      <td>2552000</td>\n",
              "      <td>0.20</td>\n",
              "      <td>0.007387</td>\n",
              "      <td>1</td>\n",
              "    </tr>\n",
              "    <tr>\n",
              "      <th>9187</th>\n",
              "      <td>129000</td>\n",
              "      <td>0.05</td>\n",
              "      <td>0.000364</td>\n",
              "      <td>1</td>\n",
              "    </tr>\n",
              "  </tbody>\n",
              "</table>\n",
              "</div>\n",
              "      <button class=\"colab-df-convert\" onclick=\"convertToInteractive('df-639f20a7-5360-4eed-977b-49df52cb7298')\"\n",
              "              title=\"Convert this dataframe to an interactive table.\"\n",
              "              style=\"display:none;\">\n",
              "        \n",
              "  <svg xmlns=\"http://www.w3.org/2000/svg\" height=\"24px\"viewBox=\"0 0 24 24\"\n",
              "       width=\"24px\">\n",
              "    <path d=\"M0 0h24v24H0V0z\" fill=\"none\"/>\n",
              "    <path d=\"M18.56 5.44l.94 2.06.94-2.06 2.06-.94-2.06-.94-.94-2.06-.94 2.06-2.06.94zm-11 1L8.5 8.5l.94-2.06 2.06-.94-2.06-.94L8.5 2.5l-.94 2.06-2.06.94zm10 10l.94 2.06.94-2.06 2.06-.94-2.06-.94-.94-2.06-.94 2.06-2.06.94z\"/><path d=\"M17.41 7.96l-1.37-1.37c-.4-.4-.92-.59-1.43-.59-.52 0-1.04.2-1.43.59L10.3 9.45l-7.72 7.72c-.78.78-.78 2.05 0 2.83L4 21.41c.39.39.9.59 1.41.59.51 0 1.02-.2 1.41-.59l7.78-7.78 2.81-2.81c.8-.78.8-2.07 0-2.86zM5.41 20L4 18.59l7.72-7.72 1.47 1.35L5.41 20z\"/>\n",
              "  </svg>\n",
              "      </button>\n",
              "      \n",
              "  <style>\n",
              "    .colab-df-container {\n",
              "      display:flex;\n",
              "      flex-wrap:wrap;\n",
              "      gap: 12px;\n",
              "    }\n",
              "\n",
              "    .colab-df-convert {\n",
              "      background-color: #E8F0FE;\n",
              "      border: none;\n",
              "      border-radius: 50%;\n",
              "      cursor: pointer;\n",
              "      display: none;\n",
              "      fill: #1967D2;\n",
              "      height: 32px;\n",
              "      padding: 0 0 0 0;\n",
              "      width: 32px;\n",
              "    }\n",
              "\n",
              "    .colab-df-convert:hover {\n",
              "      background-color: #E2EBFA;\n",
              "      box-shadow: 0px 1px 2px rgba(60, 64, 67, 0.3), 0px 1px 3px 1px rgba(60, 64, 67, 0.15);\n",
              "      fill: #174EA6;\n",
              "    }\n",
              "\n",
              "    [theme=dark] .colab-df-convert {\n",
              "      background-color: #3B4455;\n",
              "      fill: #D2E3FC;\n",
              "    }\n",
              "\n",
              "    [theme=dark] .colab-df-convert:hover {\n",
              "      background-color: #434B5C;\n",
              "      box-shadow: 0px 1px 3px 1px rgba(0, 0, 0, 0.15);\n",
              "      filter: drop-shadow(0px 1px 2px rgba(0, 0, 0, 0.3));\n",
              "      fill: #FFFFFF;\n",
              "    }\n",
              "  </style>\n",
              "\n",
              "      <script>\n",
              "        const buttonEl =\n",
              "          document.querySelector('#df-639f20a7-5360-4eed-977b-49df52cb7298 button.colab-df-convert');\n",
              "        buttonEl.style.display =\n",
              "          google.colab.kernel.accessAllowed ? 'block' : 'none';\n",
              "\n",
              "        async function convertToInteractive(key) {\n",
              "          const element = document.querySelector('#df-639f20a7-5360-4eed-977b-49df52cb7298');\n",
              "          const dataTable =\n",
              "            await google.colab.kernel.invokeFunction('convertToInteractive',\n",
              "                                                     [key], {});\n",
              "          if (!dataTable) return;\n",
              "\n",
              "          const docLinkHtml = 'Like what you see? Visit the ' +\n",
              "            '<a target=\"_blank\" href=https://colab.research.google.com/notebooks/data_table.ipynb>data table notebook</a>'\n",
              "            + ' to learn more about interactive tables.';\n",
              "          element.innerHTML = '';\n",
              "          dataTable['output_type'] = 'display_data';\n",
              "          await google.colab.output.renderOutput(dataTable, element);\n",
              "          const docLink = document.createElement('div');\n",
              "          docLink.innerHTML = docLinkHtml;\n",
              "          element.appendChild(docLink);\n",
              "        }\n",
              "      </script>\n",
              "    </div>\n",
              "  </div>\n",
              "  "
            ]
          },
          "metadata": {},
          "execution_count": 17
        }
      ]
    },
    {
      "cell_type": "markdown",
      "source": [
        "#Pecahin lagi jadi 2"
      ],
      "metadata": {
        "id": "cXRTWWgY8lcL"
      }
    },
    {
      "cell_type": "code",
      "source": [
        "pip install autils"
      ],
      "metadata": {
        "id": "KgZvyTOsW_Vp",
        "colab": {
          "base_uri": "https://localhost:8080/"
        },
        "outputId": "892369dd-b4d8-4a49-eca2-1355405ca7e1"
      },
      "execution_count": 25,
      "outputs": [
        {
          "output_type": "stream",
          "name": "stdout",
          "text": [
            "Looking in indexes: https://pypi.org/simple, https://us-python.pkg.dev/colab-wheels/public/simple/\n",
            "Collecting autils\n",
            "  Downloading Autils-0.4.0.tar.gz (22 kB)\n",
            "  Preparing metadata (setup.py) ... \u001b[?25l\u001b[?25hdone\n",
            "Requirement already satisfied: requests in /usr/local/lib/python3.10/dist-packages (from autils) (2.27.1)\n",
            "Collecting pyotp (from autils)\n",
            "  Using cached pyotp-2.8.0-py3-none-any.whl (12 kB)\n",
            "Requirement already satisfied: pytz in /usr/local/lib/python3.10/dist-packages (from autils) (2022.7.1)\n",
            "Requirement already satisfied: urllib3<1.27,>=1.21.1 in /usr/local/lib/python3.10/dist-packages (from requests->autils) (1.26.15)\n",
            "Requirement already satisfied: certifi>=2017.4.17 in /usr/local/lib/python3.10/dist-packages (from requests->autils) (2022.12.7)\n",
            "Requirement already satisfied: charset-normalizer~=2.0.0 in /usr/local/lib/python3.10/dist-packages (from requests->autils) (2.0.12)\n",
            "Requirement already satisfied: idna<4,>=2.5 in /usr/local/lib/python3.10/dist-packages (from requests->autils) (3.4)\n",
            "Building wheels for collected packages: autils\n",
            "  Building wheel for autils (setup.py) ... \u001b[?25l\u001b[?25hdone\n",
            "  Created wheel for autils: filename=Autils-0.4.0-py3-none-any.whl size=26312 sha256=df25fd2da34b450d17abb2c59a4cb332ec98f8fb77436ace80d414567a77849a\n",
            "  Stored in directory: /root/.cache/pip/wheels/2c/e2/53/827b2497fd4bdb746373c649c53a2ca444c241357c8df98128\n",
            "Successfully built autils\n",
            "Installing collected packages: pyotp, autils\n",
            "Successfully installed autils-0.4.0 pyotp-2.8.0\n"
          ]
        }
      ]
    },
    {
      "cell_type": "code",
      "source": [
        "import numpy as np\n",
        "import tensorflow as tf\n",
        "from tensorflow.keras.models import Sequential\n",
        "from tensorflow.keras.layers import Dense\n",
        "from tensorflow.keras.activations import linear, relu, sigmoid\n",
        "import matplotlib.pyplot as plt\n",
        "\n",
        "import logging\n",
        "logging.getLogger(\"tensorflow\").setLevel(logging.ERROR)\n",
        "tf.autograph.set_verbosity(0)\n",
        "\n",
        "from autils import *\n",
        "np.set_printoptions(precision=2)"
      ],
      "metadata": {
        "id": "oKABoPUyXFnJ"
      },
      "execution_count": 26,
      "outputs": []
    },
    {
      "cell_type": "code",
      "source": [
        "import numpy as np\n",
        "import matplotlib.pyplot as plt\n",
        "from sklearn.linear_model import LinearRegression, Ridge\n",
        "from sklearn.preprocessing import StandardScaler, PolynomialFeatures\n",
        "from sklearn.model_selection import train_test_split\n",
        "from sklearn.metrics import mean_squared_error\n",
        "import tensorflow as tf\n",
        "from tensorflow.keras.models import Sequential\n",
        "from tensorflow.keras.layers import Dense\n",
        "from tensorflow.keras.activations import relu,linear\n",
        "from tensorflow.keras.losses import SparseCategoricalCrossentropy\n",
        "from tensorflow.keras.optimizers import Adam\n",
        "\n",
        "import logging\n",
        "logging.getLogger(\"tensorflow\").setLevel(logging.ERROR)\n",
        "\n",
        "tf.keras.backend.set_floatx('float64')\n",
        "\n",
        "tf.autograph.set_verbosity(0)"
      ],
      "metadata": {
        "id": "dCDkw7t4Zo_f"
      },
      "execution_count": 27,
      "outputs": []
    },
    {
      "cell_type": "code",
      "source": [
        "X = df2[[\"Harga Barang\", \"Discount Value\"]]\n",
        "y = df2[[\"Cluster\"]]\n",
        "print ('The shape of X is: ' + str(X.shape))\n",
        "print ('The shape of y is: ' + str(y.shape))"
      ],
      "metadata": {
        "id": "mc3-VFfwXUYH",
        "colab": {
          "base_uri": "https://localhost:8080/"
        },
        "outputId": "b370cbbe-85b6-46a6-a391-4393449dd130"
      },
      "execution_count": 23,
      "outputs": [
        {
          "output_type": "stream",
          "name": "stdout",
          "text": [
            "The shape of X is: (10865, 2)\n",
            "The shape of y is: (10865, 1)\n"
          ]
        }
      ]
    },
    {
      "cell_type": "code",
      "source": [
        "X_train, X_test, y_train, y_test = train_test_split(X,y,test_size=0.33, random_state=1)\n",
        "print(\"X_train.shape\", X_train.shape, \"y_train.shape\", y_train.shape)\n",
        "print(\"X_test.shape\", X_test.shape, \"y_test.shape\", y_test.shape)"
      ],
      "metadata": {
        "id": "2ILM8TUVZbNN",
        "colab": {
          "base_uri": "https://localhost:8080/"
        },
        "outputId": "f8b4500e-4a35-4d4a-b632-ce5133af2b55"
      },
      "execution_count": 24,
      "outputs": [
        {
          "output_type": "stream",
          "name": "stdout",
          "text": [
            "X_train.shape (7279, 2) y_train.shape (7279, 1)\n",
            "X_test.shape (3586, 2) y_test.shape (3586, 1)\n"
          ]
        }
      ]
    },
    {
      "cell_type": "code",
      "source": [
        "model = Sequential([\n",
        "        tf.keras.Input(shape=(2,)),\n",
        "        Dense(128, activation = 'relu'),\n",
        "        Dense(64, activation='relu'),\n",
        "        Dense(32, activation='relu'),\n",
        "        Dense(2, activation = 'softmax'),\n",
        "    ], name=\"Tanyamama_model\")\n",
        "model.compile(\n",
        "    loss=SparseCategoricalCrossentropy(from_logits = True),\n",
        "    optimizer= tf.keras.optimizers.Adam(learning_rate=0.01),\n",
        "    metrics=['accuracy'])"
      ],
      "metadata": {
        "id": "2JKZN_7Tt8HT"
      },
      "execution_count": 25,
      "outputs": []
    },
    {
      "cell_type": "code",
      "source": [
        "model.summary()"
      ],
      "metadata": {
        "id": "JBSwLl2lZB_N",
        "colab": {
          "base_uri": "https://localhost:8080/"
        },
        "outputId": "864439b0-ae35-4ed0-a0d2-8774b85ef22e"
      },
      "execution_count": null,
      "outputs": [
        {
          "output_type": "stream",
          "name": "stdout",
          "text": [
            "Model: \"Tanyamama_model\"\n",
            "_________________________________________________________________\n",
            " Layer (type)                Output Shape              Param #   \n",
            "=================================================================\n",
            " dense (Dense)               (None, 128)               384       \n",
            "                                                                 \n",
            " dense_1 (Dense)             (None, 64)                8256      \n",
            "                                                                 \n",
            " dense_2 (Dense)             (None, 32)                2080      \n",
            "                                                                 \n",
            " dense_3 (Dense)             (None, 3)                 99        \n",
            "                                                                 \n",
            "=================================================================\n",
            "Total params: 10,819\n",
            "Trainable params: 10,819\n",
            "Non-trainable params: 0\n",
            "_________________________________________________________________\n"
          ]
        }
      ]
    },
    {
      "cell_type": "code",
      "source": [
        "history = model.fit(\n",
        "    X_train, y_train,batch_size=32,\n",
        "    epochs=20)"
      ],
      "metadata": {
        "id": "ZGp4R7OwbsW7",
        "colab": {
          "base_uri": "https://localhost:8080/"
        },
        "outputId": "a9d78166-dbee-41d4-c176-d30ad8b1327e"
      },
      "execution_count": 27,
      "outputs": [
        {
          "output_type": "stream",
          "name": "stdout",
          "text": [
            "Epoch 1/20\n",
            "228/228 [==============================] - 2s 8ms/step - loss: 0.0179 - accuracy: 0.9960\n",
            "Epoch 2/20\n",
            "228/228 [==============================] - 2s 8ms/step - loss: 0.0184 - accuracy: 0.9949\n",
            "Epoch 3/20\n",
            "228/228 [==============================] - 2s 7ms/step - loss: 0.0154 - accuracy: 0.9968\n",
            "Epoch 4/20\n",
            "228/228 [==============================] - 1s 5ms/step - loss: 0.0164 - accuracy: 0.9951\n",
            "Epoch 5/20\n",
            "228/228 [==============================] - 1s 6ms/step - loss: 0.0220 - accuracy: 0.9909\n",
            "Epoch 6/20\n",
            "228/228 [==============================] - 2s 7ms/step - loss: 0.0178 - accuracy: 0.9935\n",
            "Epoch 7/20\n",
            "228/228 [==============================] - 1s 4ms/step - loss: 0.0239 - accuracy: 0.9902\n",
            "Epoch 8/20\n",
            "228/228 [==============================] - 1s 3ms/step - loss: 0.0295 - accuracy: 0.9879\n",
            "Epoch 9/20\n",
            "228/228 [==============================] - 1s 6ms/step - loss: 0.0204 - accuracy: 0.9922\n",
            "Epoch 10/20\n",
            "228/228 [==============================] - 3s 14ms/step - loss: 0.0413 - accuracy: 0.9856\n",
            "Epoch 11/20\n",
            "228/228 [==============================] - 2s 9ms/step - loss: 0.0204 - accuracy: 0.9920\n",
            "Epoch 12/20\n",
            "228/228 [==============================] - 1s 6ms/step - loss: 0.0317 - accuracy: 0.9880\n",
            "Epoch 13/20\n",
            "228/228 [==============================] - 1s 5ms/step - loss: 0.0614 - accuracy: 0.9815\n",
            "Epoch 14/20\n",
            "228/228 [==============================] - 1s 5ms/step - loss: 0.0435 - accuracy: 0.9838\n",
            "Epoch 15/20\n",
            "228/228 [==============================] - 1s 4ms/step - loss: 0.1676 - accuracy: 0.9683\n",
            "Epoch 16/20\n",
            "228/228 [==============================] - 1s 4ms/step - loss: 0.2235 - accuracy: 0.9446\n",
            "Epoch 17/20\n",
            "228/228 [==============================] - 1s 4ms/step - loss: 0.2143 - accuracy: 0.9446\n",
            "Epoch 18/20\n",
            "228/228 [==============================] - 1s 5ms/step - loss: 0.2142 - accuracy: 0.9446\n",
            "Epoch 19/20\n",
            "228/228 [==============================] - 1s 6ms/step - loss: 0.2145 - accuracy: 0.9446\n",
            "Epoch 20/20\n",
            "228/228 [==============================] - 2s 7ms/step - loss: 0.2142 - accuracy: 0.9446\n"
          ]
        }
      ]
    },
    {
      "cell_type": "code",
      "source": [
        "model.save('tanya_mama_yes_no.keras')"
      ],
      "metadata": {
        "id": "RCF2FcNTZwLs"
      },
      "execution_count": 103,
      "outputs": []
    },
    {
      "cell_type": "code",
      "source": [
        "!mkdir -p saved_model\n",
        "model.save('saved_model/my_model')"
      ],
      "metadata": {
        "colab": {
          "base_uri": "https://localhost:8080/"
        },
        "id": "D0JCAedEclex",
        "outputId": "d867e73b-94cb-48fa-dceb-475904cedce8"
      },
      "execution_count": 37,
      "outputs": [
        {
          "output_type": "stream",
          "name": "stderr",
          "text": [
            "WARNING:absl:Found untraced functions such as _update_step_xla while saving (showing 1 of 1). These functions will not be directly callable after loading.\n"
          ]
        }
      ]
    },
    {
      "cell_type": "code",
      "source": [
        "!zip -r /content/file.zip /content/saved_model"
      ],
      "metadata": {
        "colab": {
          "base_uri": "https://localhost:8080/"
        },
        "id": "TXU8maIddOlc",
        "outputId": "d823aa28-575a-4aa9-c656-419c9cbdcb8c"
      },
      "execution_count": 39,
      "outputs": [
        {
          "output_type": "stream",
          "name": "stdout",
          "text": [
            "  adding: content/saved_model/ (stored 0%)\n",
            "  adding: content/saved_model/my_model/ (stored 0%)\n",
            "  adding: content/saved_model/my_model/keras_metadata.pb (deflated 88%)\n",
            "  adding: content/saved_model/my_model/saved_model.pb (deflated 88%)\n",
            "  adding: content/saved_model/my_model/variables/ (stored 0%)\n",
            "  adding: content/saved_model/my_model/variables/variables.data-00000-of-00001 (deflated 45%)\n",
            "  adding: content/saved_model/my_model/variables/variables.index (deflated 61%)\n",
            "  adding: content/saved_model/my_model/assets/ (stored 0%)\n",
            "  adding: content/saved_model/my_model/fingerprint.pb (stored 0%)\n"
          ]
        }
      ]
    },
    {
      "cell_type": "code",
      "source": [
        "clustertest = model.predict(X_test)"
      ],
      "metadata": {
        "colab": {
          "base_uri": "https://localhost:8080/"
        },
        "id": "gT_EFE6UbqGi",
        "outputId": "ea990e05-ab81-449b-f3ee-6e452eeefd40"
      },
      "execution_count": 28,
      "outputs": [
        {
          "output_type": "stream",
          "name": "stdout",
          "text": [
            "113/113 [==============================] - 0s 2ms/step\n"
          ]
        }
      ]
    },
    {
      "cell_type": "code",
      "source": [
        "dfbaru = pd.read_excel('/content/dataset2.xlsx')"
      ],
      "metadata": {
        "id": "cJLpqsnZkMl7"
      },
      "execution_count": 7,
      "outputs": []
    },
    {
      "cell_type": "code",
      "source": [
        "dfbaru.head()"
      ],
      "metadata": {
        "colab": {
          "base_uri": "https://localhost:8080/",
          "height": 206
        },
        "id": "1eNORIAfkWd7",
        "outputId": "920d7574-13c5-4ef9-bfff-4795671130de"
      },
      "execution_count": 8,
      "outputs": [
        {
          "output_type": "execute_result",
          "data": {
            "text/plain": [
              "   Harga Barang  Discount Value\n",
              "0   345000000.0            0.40\n",
              "1   345000000.0            0.05\n",
              "2   345000000.0            0.25\n",
              "3   327600000.0            0.05\n",
              "4   322000000.0            0.20"
            ],
            "text/html": [
              "\n",
              "  <div id=\"df-15b06f97-36b6-4a6d-aeb3-d45b2e4c5fe5\">\n",
              "    <div class=\"colab-df-container\">\n",
              "      <div>\n",
              "<style scoped>\n",
              "    .dataframe tbody tr th:only-of-type {\n",
              "        vertical-align: middle;\n",
              "    }\n",
              "\n",
              "    .dataframe tbody tr th {\n",
              "        vertical-align: top;\n",
              "    }\n",
              "\n",
              "    .dataframe thead th {\n",
              "        text-align: right;\n",
              "    }\n",
              "</style>\n",
              "<table border=\"1\" class=\"dataframe\">\n",
              "  <thead>\n",
              "    <tr style=\"text-align: right;\">\n",
              "      <th></th>\n",
              "      <th>Harga Barang</th>\n",
              "      <th>Discount Value</th>\n",
              "    </tr>\n",
              "  </thead>\n",
              "  <tbody>\n",
              "    <tr>\n",
              "      <th>0</th>\n",
              "      <td>345000000.0</td>\n",
              "      <td>0.40</td>\n",
              "    </tr>\n",
              "    <tr>\n",
              "      <th>1</th>\n",
              "      <td>345000000.0</td>\n",
              "      <td>0.05</td>\n",
              "    </tr>\n",
              "    <tr>\n",
              "      <th>2</th>\n",
              "      <td>345000000.0</td>\n",
              "      <td>0.25</td>\n",
              "    </tr>\n",
              "    <tr>\n",
              "      <th>3</th>\n",
              "      <td>327600000.0</td>\n",
              "      <td>0.05</td>\n",
              "    </tr>\n",
              "    <tr>\n",
              "      <th>4</th>\n",
              "      <td>322000000.0</td>\n",
              "      <td>0.20</td>\n",
              "    </tr>\n",
              "  </tbody>\n",
              "</table>\n",
              "</div>\n",
              "      <button class=\"colab-df-convert\" onclick=\"convertToInteractive('df-15b06f97-36b6-4a6d-aeb3-d45b2e4c5fe5')\"\n",
              "              title=\"Convert this dataframe to an interactive table.\"\n",
              "              style=\"display:none;\">\n",
              "        \n",
              "  <svg xmlns=\"http://www.w3.org/2000/svg\" height=\"24px\"viewBox=\"0 0 24 24\"\n",
              "       width=\"24px\">\n",
              "    <path d=\"M0 0h24v24H0V0z\" fill=\"none\"/>\n",
              "    <path d=\"M18.56 5.44l.94 2.06.94-2.06 2.06-.94-2.06-.94-.94-2.06-.94 2.06-2.06.94zm-11 1L8.5 8.5l.94-2.06 2.06-.94-2.06-.94L8.5 2.5l-.94 2.06-2.06.94zm10 10l.94 2.06.94-2.06 2.06-.94-2.06-.94-.94-2.06-.94 2.06-2.06.94z\"/><path d=\"M17.41 7.96l-1.37-1.37c-.4-.4-.92-.59-1.43-.59-.52 0-1.04.2-1.43.59L10.3 9.45l-7.72 7.72c-.78.78-.78 2.05 0 2.83L4 21.41c.39.39.9.59 1.41.59.51 0 1.02-.2 1.41-.59l7.78-7.78 2.81-2.81c.8-.78.8-2.07 0-2.86zM5.41 20L4 18.59l7.72-7.72 1.47 1.35L5.41 20z\"/>\n",
              "  </svg>\n",
              "      </button>\n",
              "      \n",
              "  <style>\n",
              "    .colab-df-container {\n",
              "      display:flex;\n",
              "      flex-wrap:wrap;\n",
              "      gap: 12px;\n",
              "    }\n",
              "\n",
              "    .colab-df-convert {\n",
              "      background-color: #E8F0FE;\n",
              "      border: none;\n",
              "      border-radius: 50%;\n",
              "      cursor: pointer;\n",
              "      display: none;\n",
              "      fill: #1967D2;\n",
              "      height: 32px;\n",
              "      padding: 0 0 0 0;\n",
              "      width: 32px;\n",
              "    }\n",
              "\n",
              "    .colab-df-convert:hover {\n",
              "      background-color: #E2EBFA;\n",
              "      box-shadow: 0px 1px 2px rgba(60, 64, 67, 0.3), 0px 1px 3px 1px rgba(60, 64, 67, 0.15);\n",
              "      fill: #174EA6;\n",
              "    }\n",
              "\n",
              "    [theme=dark] .colab-df-convert {\n",
              "      background-color: #3B4455;\n",
              "      fill: #D2E3FC;\n",
              "    }\n",
              "\n",
              "    [theme=dark] .colab-df-convert:hover {\n",
              "      background-color: #434B5C;\n",
              "      box-shadow: 0px 1px 3px 1px rgba(0, 0, 0, 0.15);\n",
              "      filter: drop-shadow(0px 1px 2px rgba(0, 0, 0, 0.3));\n",
              "      fill: #FFFFFF;\n",
              "    }\n",
              "  </style>\n",
              "\n",
              "      <script>\n",
              "        const buttonEl =\n",
              "          document.querySelector('#df-15b06f97-36b6-4a6d-aeb3-d45b2e4c5fe5 button.colab-df-convert');\n",
              "        buttonEl.style.display =\n",
              "          google.colab.kernel.accessAllowed ? 'block' : 'none';\n",
              "\n",
              "        async function convertToInteractive(key) {\n",
              "          const element = document.querySelector('#df-15b06f97-36b6-4a6d-aeb3-d45b2e4c5fe5');\n",
              "          const dataTable =\n",
              "            await google.colab.kernel.invokeFunction('convertToInteractive',\n",
              "                                                     [key], {});\n",
              "          if (!dataTable) return;\n",
              "\n",
              "          const docLinkHtml = 'Like what you see? Visit the ' +\n",
              "            '<a target=\"_blank\" href=https://colab.research.google.com/notebooks/data_table.ipynb>data table notebook</a>'\n",
              "            + ' to learn more about interactive tables.';\n",
              "          element.innerHTML = '';\n",
              "          dataTable['output_type'] = 'display_data';\n",
              "          await google.colab.output.renderOutput(dataTable, element);\n",
              "          const docLink = document.createElement('div');\n",
              "          docLink.innerHTML = docLinkHtml;\n",
              "          element.appendChild(docLink);\n",
              "        }\n",
              "      </script>\n",
              "    </div>\n",
              "  </div>\n",
              "  "
            ]
          },
          "metadata": {},
          "execution_count": 8
        }
      ]
    },
    {
      "cell_type": "code",
      "source": [
        "# Create a MinMaxScaler object\n",
        "scaler = MinMaxScaler()\n",
        "\n",
        "# Normalize the 'Price' column using min-max scaling\n",
        "dfbaru['Normalized_Price'] = scaler.fit_transform(dfbaru[['Harga Barang']])\n",
        "\n",
        "# Print the updated DataFrame\n",
        "print(dfbaru)"
      ],
      "metadata": {
        "colab": {
          "base_uri": "https://localhost:8080/"
        },
        "id": "TufqJy0egzga",
        "outputId": "b64bfab3-db2b-4caa-c65d-7fc046f0af93"
      },
      "execution_count": 11,
      "outputs": [
        {
          "output_type": "stream",
          "name": "stdout",
          "text": [
            "      Harga Barang  Discount Value  Normalized_Price\n",
            "0      345000000.0            0.40          0.849966\n",
            "1      345000000.0            0.05          0.849966\n",
            "2      345000000.0            0.25          0.849966\n",
            "3      327600000.0            0.05          0.799520\n",
            "4      322000000.0            0.20          0.783285\n",
            "...            ...             ...               ...\n",
            "3040    54648000.0            0.25          0.008179\n",
            "3041    55440000.0            0.25          0.010475\n",
            "3042    52478400.0            0.40          0.001888\n",
            "3043    51827040.0            0.15          0.000000\n",
            "3044    54000000.0            0.20          0.006300\n",
            "\n",
            "[3045 rows x 3 columns]\n"
          ]
        }
      ]
    },
    {
      "cell_type": "code",
      "source": [
        "X2 = dfbaru[['Normalized_Price','Discount Value']]#.values"
      ],
      "metadata": {
        "id": "XHPyDCbQ81_m"
      },
      "execution_count": 12,
      "outputs": []
    },
    {
      "cell_type": "code",
      "source": [
        "k = 2\n",
        "km = cluster.KMeans(n_clusters=k, init='random', random_state = 99)\n",
        "km.fit(X2)\n",
        "# Hasil clusteringnya\n",
        "C_km2 = km.predict(X2)\n",
        "p= sns.countplot(x=C_km2)"
      ],
      "metadata": {
        "colab": {
          "base_uri": "https://localhost:8080/",
          "height": 434
        },
        "id": "-1l3CMuE9A2_",
        "outputId": "65df952c-7b9a-4b3c-ee31-ce074935b5f2"
      },
      "execution_count": 13,
      "outputs": [
        {
          "output_type": "display_data",
          "data": {
            "text/plain": [
              "<Figure size 640x480 with 1 Axes>"
            ],
            "image/png": "[encoded data removed]"
          },
          "metadata": {}
        }
      ]
    },
    {
      "cell_type": "code",
      "source": [
        "#kmeans++\n",
        "k = 2\n",
        "kmPP1 = cluster.KMeans(n_clusters=k, init='k-means++', max_iter=300, tol=0.0001, random_state = random_state)\n",
        "kmPP1.fit(X2)\n",
        "C_kmpp2 = kmPP1.predict(X2)\n",
        "\n",
        "sns.countplot(x=C_kmpp2)\n",
        "C_kmpp2[:10]\n"
      ],
      "metadata": {
        "colab": {
          "base_uri": "https://localhost:8080/",
          "height": 451
        },
        "id": "nHMuUzpy9LG2",
        "outputId": "42be2c19-8e60-40b2-92b1-2cbcf2fedc83"
      },
      "execution_count": 14,
      "outputs": [
        {
          "output_type": "execute_result",
          "data": {
            "text/plain": [
              "array([0, 0, 0, 0, 0, 0, 0, 0, 0, 0], dtype=int32)"
            ]
          },
          "metadata": {},
          "execution_count": 14
        },
        {
          "output_type": "display_data",
          "data": {
            "text/plain": [
              "<Figure size 640x480 with 1 Axes>"
            ],
            "image/png": "[encoded data removed]"
          },
          "metadata": {}
        }
      ]
    },
    {
      "cell_type": "code",
      "source": [
        "#minibatchkmeans\n",
        "k = 2\n",
        "# MiniBatch k-Means http://scikit-learn.org/stable/modules/generated/sklearn.cluster.MiniBatchKMeans.html\n",
        "mbkm2 = cluster.MiniBatchKMeans(n_clusters=k, init='random', \\\n",
        "                               max_iter=300, tol=0.0001, batch_size = 100, random_state = 99)\n",
        "mbkm2.fit(X2)\n",
        "C_mbkm2 = mbkm2.predict(X2)\n",
        "sns.countplot(x=C_mbkm2)\n",
        "C_mbkm2[:10]"
      ],
      "metadata": {
        "colab": {
          "base_uri": "https://localhost:8080/",
          "height": 451
        },
        "id": "c60weV_G9YLY",
        "outputId": "15a45293-6620-437f-d17c-2ed78726c698"
      },
      "execution_count": 15,
      "outputs": [
        {
          "output_type": "execute_result",
          "data": {
            "text/plain": [
              "array([1, 1, 1, 1, 1, 1, 1, 1, 1, 1], dtype=int32)"
            ]
          },
          "metadata": {},
          "execution_count": 15
        },
        {
          "output_type": "display_data",
          "data": {
            "text/plain": [
              "<Figure size 640x480 with 1 Axes>"
            ],
            "image/png": "[encoded data removed]"
          },
          "metadata": {}
        }
      ]
    },
    {
      "cell_type": "code",
      "source": [
        "Hasil_Clustering = [C_km2, C_kmpp2, C_mbkm2]\n",
        "for res in Hasil_Clustering:\n",
        "    print(siluet(X2,res), end=', ')"
      ],
      "metadata": {
        "colab": {
          "base_uri": "https://localhost:8080/"
        },
        "id": "G5cGvkcflPBQ",
        "outputId": "320c46c0-d050-4e62-9fd0-8324afc35172"
      },
      "execution_count": 18,
      "outputs": [
        {
          "output_type": "stream",
          "name": "stdout",
          "text": [
            "0.47449604001518675, 0.47449604001518675, 0.46744031557933685, "
          ]
        }
      ]
    },
    {
      "cell_type": "code",
      "source": [
        "sns.set(style=\"whitegrid\")\n",
        "\n",
        "# Create a scatter plot for each cluster\n",
        "sns.scatterplot(data=dfbaru, x='Normalized_Price', y='Discount Value', hue=C_mbkm2, palette='viridis')\n",
        "\n",
        "# Show the plot\n",
        "plt.show()"
      ],
      "metadata": {
        "colab": {
          "base_uri": "https://localhost:8080/",
          "height": 458
        },
        "id": "nkU6mxja9s8a",
        "outputId": "79e4cdaa-105a-4156-c8c9-be60af0a781d"
      },
      "execution_count": 19,
      "outputs": [
        {
          "output_type": "display_data",
          "data": {
            "text/plain": [
              "<Figure size 640x480 with 1 Axes>"
            ],
            "image/png": "[encoded data removed]"
          },
          "metadata": {}
        }
      ]
    },
    {
      "cell_type": "code",
      "source": [
        "dfbaru['Cluster2'] = C_mbkm2\n",
        "dfbaru.sample(10)"
      ],
      "metadata": {
        "colab": {
          "base_uri": "https://localhost:8080/",
          "height": 363
        },
        "id": "todW8SDg-bJs",
        "outputId": "21ae530d-fd2e-4494-9874-6ea898f6ca41"
      },
      "execution_count": 20,
      "outputs": [
        {
          "output_type": "execute_result",
          "data": {
            "text/plain": [
              "      Harga Barang  Discount Value  Normalized_Price  Cluster2\n",
              "453     85020000.0            0.10          0.096233         0\n",
              "1611   106480000.0            0.25          0.158450         0\n",
              "2078   133075800.0            0.10          0.235556         0\n",
              "2716   111936000.0            0.25          0.174268         0\n",
              "2824    83798400.0            0.35          0.092691         0\n",
              "2794    89690500.8            0.20          0.109774         0\n",
              "2851    80990000.0            0.40          0.084549         0\n",
              "1184    73645000.0            0.10          0.063255         0\n",
              "2540   170554800.0            0.35          0.344215         1\n",
              "2266    80040000.0            0.30          0.081795         0"
            ],
            "text/html": [
              "\n",
              "  <div id=\"df-49f62c2e-b433-4c72-b0aa-a2e250b421a4\">\n",
              "    <div class=\"colab-df-container\">\n",
              "      <div>\n",
              "<style scoped>\n",
              "    .dataframe tbody tr th:only-of-type {\n",
              "        vertical-align: middle;\n",
              "    }\n",
              "\n",
              "    .dataframe tbody tr th {\n",
              "        vertical-align: top;\n",
              "    }\n",
              "\n",
              "    .dataframe thead th {\n",
              "        text-align: right;\n",
              "    }\n",
              "</style>\n",
              "<table border=\"1\" class=\"dataframe\">\n",
              "  <thead>\n",
              "    <tr style=\"text-align: right;\">\n",
              "      <th></th>\n",
              "      <th>Harga Barang</th>\n",
              "      <th>Discount Value</th>\n",
              "      <th>Normalized_Price</th>\n",
              "      <th>Cluster2</th>\n",
              "    </tr>\n",
              "  </thead>\n",
              "  <tbody>\n",
              "    <tr>\n",
              "      <th>453</th>\n",
              "      <td>85020000.0</td>\n",
              "      <td>0.10</td>\n",
              "      <td>0.096233</td>\n",
              "      <td>0</td>\n",
              "    </tr>\n",
              "    <tr>\n",
              "      <th>1611</th>\n",
              "      <td>106480000.0</td>\n",
              "      <td>0.25</td>\n",
              "      <td>0.158450</td>\n",
              "      <td>0</td>\n",
              "    </tr>\n",
              "    <tr>\n",
              "      <th>2078</th>\n",
              "      <td>133075800.0</td>\n",
              "      <td>0.10</td>\n",
              "      <td>0.235556</td>\n",
              "      <td>0</td>\n",
              "    </tr>\n",
              "    <tr>\n",
              "      <th>2716</th>\n",
              "      <td>111936000.0</td>\n",
              "      <td>0.25</td>\n",
              "      <td>0.174268</td>\n",
              "      <td>0</td>\n",
              "    </tr>\n",
              "    <tr>\n",
              "      <th>2824</th>\n",
              "      <td>83798400.0</td>\n",
              "      <td>0.35</td>\n",
              "      <td>0.092691</td>\n",
              "      <td>0</td>\n",
              "    </tr>\n",
              "    <tr>\n",
              "      <th>2794</th>\n",
              "      <td>89690500.8</td>\n",
              "      <td>0.20</td>\n",
              "      <td>0.109774</td>\n",
              "      <td>0</td>\n",
              "    </tr>\n",
              "    <tr>\n",
              "      <th>2851</th>\n",
              "      <td>80990000.0</td>\n",
              "      <td>0.40</td>\n",
              "      <td>0.084549</td>\n",
              "      <td>0</td>\n",
              "    </tr>\n",
              "    <tr>\n",
              "      <th>1184</th>\n",
              "      <td>73645000.0</td>\n",
              "      <td>0.10</td>\n",
              "      <td>0.063255</td>\n",
              "      <td>0</td>\n",
              "    </tr>\n",
              "    <tr>\n",
              "      <th>2540</th>\n",
              "      <td>170554800.0</td>\n",
              "      <td>0.35</td>\n",
              "      <td>0.344215</td>\n",
              "      <td>1</td>\n",
              "    </tr>\n",
              "    <tr>\n",
              "      <th>2266</th>\n",
              "      <td>80040000.0</td>\n",
              "      <td>0.30</td>\n",
              "      <td>0.081795</td>\n",
              "      <td>0</td>\n",
              "    </tr>\n",
              "  </tbody>\n",
              "</table>\n",
              "</div>\n",
              "      <button class=\"colab-df-convert\" onclick=\"convertToInteractive('df-49f62c2e-b433-4c72-b0aa-a2e250b421a4')\"\n",
              "              title=\"Convert this dataframe to an interactive table.\"\n",
              "              style=\"display:none;\">\n",
              "        \n",
              "  <svg xmlns=\"http://www.w3.org/2000/svg\" height=\"24px\"viewBox=\"0 0 24 24\"\n",
              "       width=\"24px\">\n",
              "    <path d=\"M0 0h24v24H0V0z\" fill=\"none\"/>\n",
              "    <path d=\"M18.56 5.44l.94 2.06.94-2.06 2.06-.94-2.06-.94-.94-2.06-.94 2.06-2.06.94zm-11 1L8.5 8.5l.94-2.06 2.06-.94-2.06-.94L8.5 2.5l-.94 2.06-2.06.94zm10 10l.94 2.06.94-2.06 2.06-.94-2.06-.94-.94-2.06-.94 2.06-2.06.94z\"/><path d=\"M17.41 7.96l-1.37-1.37c-.4-.4-.92-.59-1.43-.59-.52 0-1.04.2-1.43.59L10.3 9.45l-7.72 7.72c-.78.78-.78 2.05 0 2.83L4 21.41c.39.39.9.59 1.41.59.51 0 1.02-.2 1.41-.59l7.78-7.78 2.81-2.81c.8-.78.8-2.07 0-2.86zM5.41 20L4 18.59l7.72-7.72 1.47 1.35L5.41 20z\"/>\n",
              "  </svg>\n",
              "      </button>\n",
              "      \n",
              "  <style>\n",
              "    .colab-df-container {\n",
              "      display:flex;\n",
              "      flex-wrap:wrap;\n",
              "      gap: 12px;\n",
              "    }\n",
              "\n",
              "    .colab-df-convert {\n",
              "      background-color: #E8F0FE;\n",
              "      border: none;\n",
              "      border-radius: 50%;\n",
              "      cursor: pointer;\n",
              "      display: none;\n",
              "      fill: #1967D2;\n",
              "      height: 32px;\n",
              "      padding: 0 0 0 0;\n",
              "      width: 32px;\n",
              "    }\n",
              "\n",
              "    .colab-df-convert:hover {\n",
              "      background-color: #E2EBFA;\n",
              "      box-shadow: 0px 1px 2px rgba(60, 64, 67, 0.3), 0px 1px 3px 1px rgba(60, 64, 67, 0.15);\n",
              "      fill: #174EA6;\n",
              "    }\n",
              "\n",
              "    [theme=dark] .colab-df-convert {\n",
              "      background-color: #3B4455;\n",
              "      fill: #D2E3FC;\n",
              "    }\n",
              "\n",
              "    [theme=dark] .colab-df-convert:hover {\n",
              "      background-color: #434B5C;\n",
              "      box-shadow: 0px 1px 3px 1px rgba(0, 0, 0, 0.15);\n",
              "      filter: drop-shadow(0px 1px 2px rgba(0, 0, 0, 0.3));\n",
              "      fill: #FFFFFF;\n",
              "    }\n",
              "  </style>\n",
              "\n",
              "      <script>\n",
              "        const buttonEl =\n",
              "          document.querySelector('#df-49f62c2e-b433-4c72-b0aa-a2e250b421a4 button.colab-df-convert');\n",
              "        buttonEl.style.display =\n",
              "          google.colab.kernel.accessAllowed ? 'block' : 'none';\n",
              "\n",
              "        async function convertToInteractive(key) {\n",
              "          const element = document.querySelector('#df-49f62c2e-b433-4c72-b0aa-a2e250b421a4');\n",
              "          const dataTable =\n",
              "            await google.colab.kernel.invokeFunction('convertToInteractive',\n",
              "                                                     [key], {});\n",
              "          if (!dataTable) return;\n",
              "\n",
              "          const docLinkHtml = 'Like what you see? Visit the ' +\n",
              "            '<a target=\"_blank\" href=https://colab.research.google.com/notebooks/data_table.ipynb>data table notebook</a>'\n",
              "            + ' to learn more about interactive tables.';\n",
              "          element.innerHTML = '';\n",
              "          dataTable['output_type'] = 'display_data';\n",
              "          await google.colab.output.renderOutput(dataTable, element);\n",
              "          const docLink = document.createElement('div');\n",
              "          docLink.innerHTML = docLinkHtml;\n",
              "          element.appendChild(docLink);\n",
              "        }\n",
              "      </script>\n",
              "    </div>\n",
              "  </div>\n",
              "  "
            ]
          },
          "metadata": {},
          "execution_count": 20
        }
      ]
    },
    {
      "cell_type": "code",
      "source": [
        "X2 = dfbaru[[\"Harga Barang\", \"Discount Value\"]]\n",
        "y2 = dfbaru[[\"Cluster2\"]]\n",
        "print ('The shape of X is: ' + str(X2.shape))\n",
        "print ('The shape of y is: ' + str(y2.shape))"
      ],
      "metadata": {
        "colab": {
          "base_uri": "https://localhost:8080/"
        },
        "id": "aZ_bMTrMe9sg",
        "outputId": "3e0bf11d-aeb2-4799-c1d5-3a8667f55013"
      },
      "execution_count": 23,
      "outputs": [
        {
          "output_type": "stream",
          "name": "stdout",
          "text": [
            "The shape of X is: (3045, 2)\n",
            "The shape of y is: (3045, 1)\n"
          ]
        }
      ]
    },
    {
      "cell_type": "code",
      "source": [
        "X_train2, X_test2, y_train2, y_test2 = train_test_split(X2,y2,test_size=0.33, random_state=1)\n",
        "print(\"X_train.shape\", X_train2.shape, \"y_train.shape\", y_train2.shape)\n",
        "print(\"X_test.shape\", X_test2.shape, \"y_test.shape\", y_test2.shape)"
      ],
      "metadata": {
        "colab": {
          "base_uri": "https://localhost:8080/"
        },
        "id": "nMwrxR7ufEyd",
        "outputId": "7ae19258-9d46-4997-8d38-fa27f80c7c0c"
      },
      "execution_count": 28,
      "outputs": [
        {
          "output_type": "stream",
          "name": "stdout",
          "text": [
            "X_train.shape (2040, 2) y_train.shape (2040, 1)\n",
            "X_test.shape (1005, 2) y_test.shape (1005, 1)\n"
          ]
        }
      ]
    },
    {
      "cell_type": "code",
      "source": [
        "model2 = Sequential([\n",
        "        tf.keras.Input(shape=(2,)),\n",
        "        Dense(64, activation='relu'),\n",
        "        Dense(32, activation='relu'),\n",
        "        Dense(16, activation='relu'),\n",
        "        Dense(2, activation = 'softmax'),\n",
        "    ], name=\"Tanyamama_model\")\n",
        "model2.compile(\n",
        "    loss=SparseCategoricalCrossentropy(from_logits = True),\n",
        "    optimizer= tf.keras.optimizers.Adam(learning_rate=0.01),\n",
        "    metrics=['accuracy'])"
      ],
      "metadata": {
        "id": "5VJCfzkQfOCF"
      },
      "execution_count": 31,
      "outputs": []
    },
    {
      "cell_type": "code",
      "source": [
        "history2 = model2.fit(\n",
        "    X_train2, y_train2,batch_size=32,\n",
        "    epochs=20)"
      ],
      "metadata": {
        "colab": {
          "base_uri": "https://localhost:8080/"
        },
        "id": "YR56ho2mfSdS",
        "outputId": "03c76eb0-1421-4b5f-8c87-27cd94e4e9c1"
      },
      "execution_count": 30,
      "outputs": [
        {
          "output_type": "stream",
          "name": "stdout",
          "text": [
            "Epoch 1/20\n",
            "64/64 [==============================] - 5s 9ms/step - loss: 846890.9062 - accuracy: 0.5069\n",
            "Epoch 2/20\n",
            "64/64 [==============================] - 0s 6ms/step - loss: 329463.6091 - accuracy: 0.5304\n",
            "Epoch 3/20\n",
            "64/64 [==============================] - 0s 6ms/step - loss: 175987.6689 - accuracy: 0.5137\n",
            "Epoch 4/20\n",
            "64/64 [==============================] - 1s 8ms/step - loss: 0.6361 - accuracy: 0.6922\n",
            "Epoch 5/20\n",
            "64/64 [==============================] - 0s 7ms/step - loss: 0.6233 - accuracy: 0.6922\n",
            "Epoch 6/20\n",
            "64/64 [==============================] - 0s 5ms/step - loss: 0.6187 - accuracy: 0.6922\n",
            "Epoch 7/20\n",
            "64/64 [==============================] - 0s 4ms/step - loss: 0.6176 - accuracy: 0.6922\n",
            "Epoch 8/20\n",
            "64/64 [==============================] - 0s 7ms/step - loss: 0.6175 - accuracy: 0.6922\n",
            "Epoch 9/20\n",
            "64/64 [==============================] - 0s 6ms/step - loss: 0.6175 - accuracy: 0.6922\n",
            "Epoch 10/20\n",
            "64/64 [==============================] - 0s 6ms/step - loss: 0.6175 - accuracy: 0.6922\n",
            "Epoch 11/20\n",
            "64/64 [==============================] - 0s 4ms/step - loss: 0.6176 - accuracy: 0.6922\n",
            "Epoch 12/20\n",
            "64/64 [==============================] - 0s 6ms/step - loss: 0.6175 - accuracy: 0.6922\n",
            "Epoch 13/20\n",
            "64/64 [==============================] - 0s 5ms/step - loss: 0.6175 - accuracy: 0.6922\n",
            "Epoch 14/20\n",
            "64/64 [==============================] - 0s 7ms/step - loss: 0.6175 - accuracy: 0.6922\n",
            "Epoch 15/20\n",
            "64/64 [==============================] - 0s 6ms/step - loss: 0.6178 - accuracy: 0.6922\n",
            "Epoch 16/20\n",
            "64/64 [==============================] - 0s 5ms/step - loss: 0.6176 - accuracy: 0.6922\n",
            "Epoch 17/20\n",
            "64/64 [==============================] - 0s 4ms/step - loss: 0.6175 - accuracy: 0.6922\n",
            "Epoch 18/20\n",
            "64/64 [==============================] - 0s 4ms/step - loss: 0.6175 - accuracy: 0.6922\n",
            "Epoch 19/20\n",
            "64/64 [==============================] - 1s 8ms/step - loss: 0.6176 - accuracy: 0.6922\n",
            "Epoch 20/20\n",
            "64/64 [==============================] - 1s 8ms/step - loss: 0.6176 - accuracy: 0.6922\n"
          ]
        }
      ]
    },
    {
      "cell_type": "code",
      "source": [
        "history3 = model2.fit(\n",
        "    X_train2, y_train2,batch_size=32,\n",
        "    epochs=20)"
      ],
      "metadata": {
        "colab": {
          "base_uri": "https://localhost:8080/"
        },
        "id": "Kpn0r3mNlyfz",
        "outputId": "7b5e8249-3b1b-4273-9f39-32edffc52624"
      },
      "execution_count": 32,
      "outputs": [
        {
          "output_type": "stream",
          "name": "stdout",
          "text": [
            "Epoch 1/20\n",
            "64/64 [==============================] - 1s 2ms/step - loss: 678678.6321 - accuracy: 0.4971\n",
            "Epoch 2/20\n",
            "64/64 [==============================] - 0s 2ms/step - loss: 78828.1901 - accuracy: 0.5000\n",
            "Epoch 3/20\n",
            "64/64 [==============================] - 0s 2ms/step - loss: 25141.3936 - accuracy: 0.5127\n",
            "Epoch 4/20\n",
            "64/64 [==============================] - 0s 2ms/step - loss: 13313.0331 - accuracy: 0.4931\n",
            "Epoch 5/20\n",
            "64/64 [==============================] - 0s 2ms/step - loss: 7942.1410 - accuracy: 0.5118\n",
            "Epoch 6/20\n",
            "64/64 [==============================] - 0s 2ms/step - loss: 1236.6259 - accuracy: 0.5049\n",
            "Epoch 7/20\n",
            "64/64 [==============================] - 0s 2ms/step - loss: 28.3450 - accuracy: 0.6029\n",
            "Epoch 8/20\n",
            "64/64 [==============================] - 0s 2ms/step - loss: 0.9382 - accuracy: 0.6922\n",
            "Epoch 9/20\n",
            "64/64 [==============================] - 0s 2ms/step - loss: 0.7608 - accuracy: 0.6922\n",
            "Epoch 10/20\n",
            "64/64 [==============================] - 0s 2ms/step - loss: 0.6627 - accuracy: 0.6922\n",
            "Epoch 11/20\n",
            "64/64 [==============================] - 0s 2ms/step - loss: 0.6276 - accuracy: 0.6922\n",
            "Epoch 12/20\n",
            "64/64 [==============================] - 0s 2ms/step - loss: 0.6191 - accuracy: 0.6922\n",
            "Epoch 13/20\n",
            "64/64 [==============================] - 0s 2ms/step - loss: 0.6178 - accuracy: 0.6922\n",
            "Epoch 14/20\n",
            "64/64 [==============================] - 0s 2ms/step - loss: 0.6176 - accuracy: 0.6922\n",
            "Epoch 15/20\n",
            "64/64 [==============================] - 0s 2ms/step - loss: 0.6175 - accuracy: 0.6922\n",
            "Epoch 16/20\n",
            "64/64 [==============================] - 0s 2ms/step - loss: 0.6175 - accuracy: 0.6922\n",
            "Epoch 17/20\n",
            "64/64 [==============================] - 0s 2ms/step - loss: 0.6175 - accuracy: 0.6922\n",
            "Epoch 18/20\n",
            "64/64 [==============================] - 0s 2ms/step - loss: 0.6175 - accuracy: 0.6922\n",
            "Epoch 19/20\n",
            "64/64 [==============================] - 0s 2ms/step - loss: 0.6176 - accuracy: 0.6922\n",
            "Epoch 20/20\n",
            "64/64 [==============================] - 0s 2ms/step - loss: 0.6176 - accuracy: 0.6922\n"
          ]
        }
      ]
    },
    {
      "cell_type": "code",
      "source": [
        "!mkdir -p saved_model\n",
        "model2.save('saved_model/my_model')\n",
        "!zip -r /content/file.zip /content/saved_model"
      ],
      "metadata": {
        "colab": {
          "base_uri": "https://localhost:8080/"
        },
        "id": "ZZk0J6y9mIcr",
        "outputId": "a05acf56-abdc-4b29-8403-cca9efab763b"
      },
      "execution_count": 36,
      "outputs": [
        {
          "output_type": "stream",
          "name": "stderr",
          "text": [
            "WARNING:absl:Found untraced functions such as _update_step_xla while saving (showing 1 of 1). These functions will not be directly callable after loading.\n"
          ]
        },
        {
          "output_type": "stream",
          "name": "stdout",
          "text": [
            "  adding: content/saved_model/ (stored 0%)\n",
            "  adding: content/saved_model/my_model/ (stored 0%)\n",
            "  adding: content/saved_model/my_model/keras_metadata.pb (deflated 88%)\n",
            "  adding: content/saved_model/my_model/saved_model.pb (deflated 88%)\n",
            "  adding: content/saved_model/my_model/variables/ (stored 0%)\n",
            "  adding: content/saved_model/my_model/variables/variables.data-00000-of-00001 (deflated 50%)\n",
            "  adding: content/saved_model/my_model/variables/variables.index (deflated 62%)\n",
            "  adding: content/saved_model/my_model/assets/ (stored 0%)\n",
            "  adding: content/saved_model/my_model/fingerprint.pb (stored 0%)\n"
          ]
        }
      ]
    },
    {
      "cell_type": "code",
      "source": [
        "?train_loss, train_accuracy = model.evaluate(X_train, y_train)\n",
        "print(\"Training loss:\", train_loss)\n",
        "print(\"Training accuracy:\", train_accuracy)\n",
        "\n",
        "# Evaluate the model on the test data\n",
        "test_loss, test_accuracy = model.evaluate(X_test, y_test)\n",
        "print(\"Test loss:\", test_loss)\n",
        "print(\"Test accuracy:\", test_accuracy)"
      ],
      "metadata": {
        "id": "WoJIhPV2cqv6",
        "colab": {
          "base_uri": "https://localhost:8080/"
        },
        "outputId": "263974e1-88ac-4b01-a7bc-d3bce2ff21c2"
      },
      "execution_count": 104,
      "outputs": [
        {
          "output_type": "stream",
          "name": "stdout",
          "text": [
            "228/228 [==============================] - 1s 2ms/step - loss: 0.2141 - accuracy: 0.9446\n",
            "Training loss: 0.214066670891492\n",
            "Training accuracy: 0.944635252095068\n",
            "113/113 [==============================] - 0s 2ms/step - loss: 0.2201 - accuracy: 0.9426\n",
            "Test loss: 0.22005996637754432\n",
            "Test accuracy: 0.9425543781372002\n"
          ]
        }
      ]
    },
    {
      "cell_type": "code",
      "source": [
        "model.summary()"
      ],
      "metadata": {
        "id": "SvzLEoZUgJKU",
        "colab": {
          "base_uri": "https://localhost:8080/"
        },
        "outputId": "42f05bde-012b-45e6-8181-fb4eb89e9346"
      },
      "execution_count": null,
      "outputs": [
        {
          "output_type": "stream",
          "name": "stdout",
          "text": [
            "Model: \"Tanyamama_model\"\n",
            "_________________________________________________________________\n",
            " Layer (type)                Output Shape              Param #   \n",
            "=================================================================\n",
            " dense_4 (Dense)             (None, 128)               384       \n",
            "                                                                 \n",
            " dense_5 (Dense)             (None, 64)                8256      \n",
            "                                                                 \n",
            " dense_6 (Dense)             (None, 32)                2080      \n",
            "                                                                 \n",
            " dense_7 (Dense)             (None, 2)                 66        \n",
            "                                                                 \n",
            "=================================================================\n",
            "Total params: 10,786\n",
            "Trainable params: 10,786\n",
            "Non-trainable params: 0\n",
            "_________________________________________________________________\n"
          ]
        }
      ]
    },
    {
      "cell_type": "code",
      "source": [
        "df3 = df2[df2[\"Cluster\"]==1]\n",
        "df3.head()"
      ],
      "metadata": {
        "colab": {
          "base_uri": "https://localhost:8080/",
          "height": 206
        },
        "id": "NYUWKiN28oR-",
        "outputId": "e060d1eb-1694-4f8e-ed9b-52d0fb98a7c4"
      },
      "execution_count": null,
      "outputs": [
        {
          "output_type": "execute_result",
          "data": {
            "text/plain": [
              "   Harga Barang  Discount Value  Normalized_Price  Cluster\n",
              "1     345000000            0.05          1.000000        1\n",
              "3     327600000            0.05          0.949565        1\n",
              "4     322000000            0.20          0.933333        1\n",
              "5     321000000            0.15          0.930434        1\n",
              "7     306800000            0.15          0.889274        1"
            ],
            "text/html": [
              "\n",
              "  <div id=\"df-f07dd026-2e3b-4afc-bded-42a49ee1a14c\">\n",
              "    <div class=\"colab-df-container\">\n",
              "      <div>\n",
              "<style scoped>\n",
              "    .dataframe tbody tr th:only-of-type {\n",
              "        vertical-align: middle;\n",
              "    }\n",
              "\n",
              "    .dataframe tbody tr th {\n",
              "        vertical-align: top;\n",
              "    }\n",
              "\n",
              "    .dataframe thead th {\n",
              "        text-align: right;\n",
              "    }\n",
              "</style>\n",
              "<table border=\"1\" class=\"dataframe\">\n",
              "  <thead>\n",
              "    <tr style=\"text-align: right;\">\n",
              "      <th></th>\n",
              "      <th>Harga Barang</th>\n",
              "      <th>Discount Value</th>\n",
              "      <th>Normalized_Price</th>\n",
              "      <th>Cluster</th>\n",
              "    </tr>\n",
              "  </thead>\n",
              "  <tbody>\n",
              "    <tr>\n",
              "      <th>1</th>\n",
              "      <td>345000000</td>\n",
              "      <td>0.05</td>\n",
              "      <td>1.000000</td>\n",
              "      <td>1</td>\n",
              "    </tr>\n",
              "    <tr>\n",
              "      <th>3</th>\n",
              "      <td>327600000</td>\n",
              "      <td>0.05</td>\n",
              "      <td>0.949565</td>\n",
              "      <td>1</td>\n",
              "    </tr>\n",
              "    <tr>\n",
              "      <th>4</th>\n",
              "      <td>322000000</td>\n",
              "      <td>0.20</td>\n",
              "      <td>0.933333</td>\n",
              "      <td>1</td>\n",
              "    </tr>\n",
              "    <tr>\n",
              "      <th>5</th>\n",
              "      <td>321000000</td>\n",
              "      <td>0.15</td>\n",
              "      <td>0.930434</td>\n",
              "      <td>1</td>\n",
              "    </tr>\n",
              "    <tr>\n",
              "      <th>7</th>\n",
              "      <td>306800000</td>\n",
              "      <td>0.15</td>\n",
              "      <td>0.889274</td>\n",
              "      <td>1</td>\n",
              "    </tr>\n",
              "  </tbody>\n",
              "</table>\n",
              "</div>\n",
              "      <button class=\"colab-df-convert\" onclick=\"convertToInteractive('df-f07dd026-2e3b-4afc-bded-42a49ee1a14c')\"\n",
              "              title=\"Convert this dataframe to an interactive table.\"\n",
              "              style=\"display:none;\">\n",
              "        \n",
              "  <svg xmlns=\"http://www.w3.org/2000/svg\" height=\"24px\"viewBox=\"0 0 24 24\"\n",
              "       width=\"24px\">\n",
              "    <path d=\"M0 0h24v24H0V0z\" fill=\"none\"/>\n",
              "    <path d=\"M18.56 5.44l.94 2.06.94-2.06 2.06-.94-2.06-.94-.94-2.06-.94 2.06-2.06.94zm-11 1L8.5 8.5l.94-2.06 2.06-.94-2.06-.94L8.5 2.5l-.94 2.06-2.06.94zm10 10l.94 2.06.94-2.06 2.06-.94-2.06-.94-.94-2.06-.94 2.06-2.06.94z\"/><path d=\"M17.41 7.96l-1.37-1.37c-.4-.4-.92-.59-1.43-.59-.52 0-1.04.2-1.43.59L10.3 9.45l-7.72 7.72c-.78.78-.78 2.05 0 2.83L4 21.41c.39.39.9.59 1.41.59.51 0 1.02-.2 1.41-.59l7.78-7.78 2.81-2.81c.8-.78.8-2.07 0-2.86zM5.41 20L4 18.59l7.72-7.72 1.47 1.35L5.41 20z\"/>\n",
              "  </svg>\n",
              "      </button>\n",
              "      \n",
              "  <style>\n",
              "    .colab-df-container {\n",
              "      display:flex;\n",
              "      flex-wrap:wrap;\n",
              "      gap: 12px;\n",
              "    }\n",
              "\n",
              "    .colab-df-convert {\n",
              "      background-color: #E8F0FE;\n",
              "      border: none;\n",
              "      border-radius: 50%;\n",
              "      cursor: pointer;\n",
              "      display: none;\n",
              "      fill: #1967D2;\n",
              "      height: 32px;\n",
              "      padding: 0 0 0 0;\n",
              "      width: 32px;\n",
              "    }\n",
              "\n",
              "    .colab-df-convert:hover {\n",
              "      background-color: #E2EBFA;\n",
              "      box-shadow: 0px 1px 2px rgba(60, 64, 67, 0.3), 0px 1px 3px 1px rgba(60, 64, 67, 0.15);\n",
              "      fill: #174EA6;\n",
              "    }\n",
              "\n",
              "    [theme=dark] .colab-df-convert {\n",
              "      background-color: #3B4455;\n",
              "      fill: #D2E3FC;\n",
              "    }\n",
              "\n",
              "    [theme=dark] .colab-df-convert:hover {\n",
              "      background-color: #434B5C;\n",
              "      box-shadow: 0px 1px 3px 1px rgba(0, 0, 0, 0.15);\n",
              "      filter: drop-shadow(0px 1px 2px rgba(0, 0, 0, 0.3));\n",
              "      fill: #FFFFFF;\n",
              "    }\n",
              "  </style>\n",
              "\n",
              "      <script>\n",
              "        const buttonEl =\n",
              "          document.querySelector('#df-f07dd026-2e3b-4afc-bded-42a49ee1a14c button.colab-df-convert');\n",
              "        buttonEl.style.display =\n",
              "          google.colab.kernel.accessAllowed ? 'block' : 'none';\n",
              "\n",
              "        async function convertToInteractive(key) {\n",
              "          const element = document.querySelector('#df-f07dd026-2e3b-4afc-bded-42a49ee1a14c');\n",
              "          const dataTable =\n",
              "            await google.colab.kernel.invokeFunction('convertToInteractive',\n",
              "                                                     [key], {});\n",
              "          if (!dataTable) return;\n",
              "\n",
              "          const docLinkHtml = 'Like what you see? Visit the ' +\n",
              "            '<a target=\"_blank\" href=https://colab.research.google.com/notebooks/data_table.ipynb>data table notebook</a>'\n",
              "            + ' to learn more about interactive tables.';\n",
              "          element.innerHTML = '';\n",
              "          dataTable['output_type'] = 'display_data';\n",
              "          await google.colab.output.renderOutput(dataTable, element);\n",
              "          const docLink = document.createElement('div');\n",
              "          docLink.innerHTML = docLinkHtml;\n",
              "          element.appendChild(docLink);\n",
              "        }\n",
              "      </script>\n",
              "    </div>\n",
              "  </div>\n",
              "  "
            ]
          },
          "metadata": {},
          "execution_count": 13
        }
      ]
    }
  ]
}